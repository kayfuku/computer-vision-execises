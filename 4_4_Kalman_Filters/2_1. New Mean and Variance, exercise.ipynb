{
 "cells": [
  {
   "cell_type": "markdown",
   "metadata": {},
   "source": [
    "# New Mean and Variance\n",
    "\n",
    "Now let's take the formulas from the example below and use them to write a program that takes in two means and variances, and returns a *new*, updated mean and variance for a gaussian. This step is called the parameter or **measurement update** because it is the update that happens when an initial belief (represented by the blue Gaussian, below) is merged with a new piece of information, a measurement with some uncertainty (the orange Gaussian). \n",
    "\n",
    "As you've seen in the previous quizzes, the updated Gaussian will be a combination of these two Gaussians with a new mean that is in between both of theirs and a variance that is less than the smallest of the two given variances; this means that after a measurement, our new mean is more certain than that of the initial belief!\n",
    "<img src='images/mean_var.png' width=\"50%\" height=\"50%\">\n"
   ]
  },
  {
   "cell_type": "markdown",
   "metadata": {},
   "source": [
    "Below is our usual Gaussian equation and imports."
   ]
  },
  {
   "cell_type": "code",
   "execution_count": 1,
   "metadata": {
    "collapsed": true
   },
   "outputs": [],
   "source": [
    "# import math functions\n",
    "from math import *\n",
    "import matplotlib.pyplot as plt\n",
    "import numpy as np\n",
    "\n",
    "# gaussian function\n",
    "def f(mu, sigma2, x):\n",
    "    ''' f takes in a mean and squared variance, and an input x\n",
    "       and returns the gaussian value.'''\n",
    "    coefficient = 1.0 / sqrt(2.0 * pi *sigma2)\n",
    "    exponential = exp(-0.5 * (x-mu) ** 2 / sigma2)\n",
    "    return coefficient * exponential\n",
    " "
   ]
  },
  {
   "cell_type": "markdown",
   "metadata": {},
   "source": [
    "### QUIZ: Write an `update` function that performs the measurement update.\n",
    "\n",
    "This function should combine the given Gaussian parameters and return new values for the mean and squared variance.\n",
    "\n",
    "This function does not have to perform any exponential math, it simply has to follow the equations for the measurement update as seen in the image at the top of this notebook. You may assume that the given variances `var1` and `var2` are squared terms."
   ]
  },
  {
   "cell_type": "code",
   "execution_count": 2,
   "metadata": {
    "collapsed": true
   },
   "outputs": [],
   "source": [
    "# the update function\n",
    "def update(mean1, var1, mean2, var2):\n",
    "    ''' This function takes in two means and two squared variance terms,\n",
    "        and returns updated gaussian parameters.'''\n",
    "    ## TODO: Calculate the new parameters\n",
    "    new_mean = (var2 * mean1 + var1 * mean2) / (var1 + var2)\n",
    "    new_var = 1 / (1 / var1 + 1 / var2)\n",
    "    \n",
    "    return [new_mean, new_var]"
   ]
  },
  {
   "cell_type": "code",
   "execution_count": 3,
   "metadata": {
    "collapsed": true
   },
   "outputs": [
    {
     "name": "stdout",
     "output_type": "stream",
     "text": [
      "[11.0, 2.0]\n"
     ]
    }
   ],
   "source": [
    "# test your implementation\n",
    "new_params = update(10, 4, 12, 4)\n",
    "print(new_params)"
   ]
  },
  {
   "cell_type": "markdown",
   "metadata": {},
   "source": [
    "### Plot a Gaussian\n",
    "\n",
    "Plot a Gaussian by looping through a range of x values and creating a resulting list of Gaussian values, `g`, as shown below. You're encouraged to see what happens if you change the values of `mu` and `sigma2`."
   ]
  },
  {
   "cell_type": "code",
   "execution_count": 9,
   "metadata": {
    "collapsed": true
   },
   "outputs": [
    {
     "data": {
      "text/plain": [
       "[<matplotlib.lines.Line2D at 0x7fd0fe1d1518>]"
      ]
     },
     "execution_count": 9,
     "metadata": {},
     "output_type": "execute_result"
    },
    {
     "data": {
      "image/png": "[encoded data removed]",
      "text/plain": [
       "<Figure size 432x288 with 1 Axes>"
      ]
     },
     "metadata": {
      "needs_background": "light"
     },
     "output_type": "display_data"
    }
   ],
   "source": [
    "# display a gaussian over a range of x values\n",
    "# define the parameters\n",
    "mu = new_params[0]\n",
    "sigma2 = new_params[1]\n",
    "\n",
    "# define a range of x values\n",
    "x_axis = np.arange(0, 20, 0.1)\n",
    "\n",
    "# create a corresponding list of gaussian values\n",
    "g = []\n",
    "for x in x_axis:\n",
    "    g.append(f(mu, sigma2, x))\n",
    "\n",
    "# plot the result \n",
    "plt.plot(x_axis, g, color='green')\n",
    "\n",
    "plt.plot(x_axis, [f(10, 4, x) for x in x_axis], color='steelblue')\n",
    "plt.plot(x_axis, [f(12, 4, x) for x in x_axis], color='orange')\n",
    "\n"
   ]
  },
  {
   "cell_type": "code",
   "execution_count": null,
   "metadata": {},
   "outputs": [],
   "source": []
  }
 ],
 "metadata": {
  "kernelspec": {
   "display_name": "Python 3",
   "language": "python",
   "name": "python3"
  },
  "language_info": {
   "codemirror_mode": {
    "name": "ipython",
    "version": 3
   },
   "file_extension": ".py",
   "mimetype": "text/x-python",
   "name": "python",
   "nbconvert_exporter": "python",
   "pygments_lexer": "ipython3",
   "version": "3.6.15"
  }
 },
 "nbformat": 4,
 "nbformat_minor": 2
}
